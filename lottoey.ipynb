{
 "cells": [
  {
   "cell_type": "code",
   "execution_count": 2,
   "id": "de342b3a",
   "metadata": {},
   "outputs": [],
   "source": [
    "import requests\n",
    "from bs4 import BeautifulSoup\n",
    "url =\"https://www.taiwanlottery.com.tw/index_new.aspx\"\n",
    "\n",
    "resp = requests.get(url)\n",
    "# print(resp)\n",
    "# print(resp.text)\n",
    "\n",
    "soup = BeautifulSoup(resp.text,\"lxml\")\n",
    "# print(soup)\n"
   ]
  },
  {
   "cell_type": "code",
   "execution_count": 5,
   "id": "0737b3e1",
   "metadata": {},
   "outputs": [
    {
     "data": {
      "text/plain": [
       "<div id=\"rightdown\">\n",
       "<!--***************BINGO BINGO**************-->\n",
       "<div class=\"contents_box01\">\n",
       "<div id=\"contents_logo_01\"> </div><div class=\"contents_mine_tx01\"><span class=\"font_black15\">112/7/1 第112036823期 </span> <span class=\"font_red14\"><a href=\"/Lotto/BingoBingo/history.aspx\">開獎結果</a> ｜ <a href=\"/Lotto/BingoBingo/drawing.aspx\">各期獎號查詢</a><a href=\"/lotto/BingoBingo/OEHLStatistic.htm\"><div id=\"contents_logo_01-2\"></div></a></span></div><div class=\"contents_mine_tx04\">開出獎號</div><div class=\"ball_box01\"><div class=\"ball_tx ball_yellow\">09 </div><div class=\"ball_tx ball_yellow\">11 </div><div class=\"ball_tx ball_yellow\">12 </div><div class=\"ball_tx ball_yellow\">13 </div><div class=\"ball_tx ball_yellow\">15 </div><div class=\"ball_tx ball_yellow\">16 </div><div class=\"ball_tx ball_yellow\">19 </div><div class=\"ball_tx ball_yellow\">22 </div><div class=\"ball_tx ball_yellow\">23 </div><div class=\"ball_tx ball_yellow\">25 </div><div class=\"ball_tx ball_yellow\">32 </div><div class=\"ball_tx ball_yellow\">39 </div><div class=\"ball_tx ball_yellow\">41 </div><div class=\"ball_tx ball_yellow\">42 </div><div class=\"ball_tx ball_yellow\">44 </div><div class=\"ball_tx ball_yellow\">45 </div><div class=\"ball_tx ball_yellow\">48 </div><div class=\"ball_tx ball_yellow\">54 </div><div class=\"ball_tx ball_yellow\">58 </div><div class=\"ball_tx ball_yellow\">61 </div></div><div class=\"contents_mine_tx08\">&amp;nbsp&amp;nbsp超級<br/>&amp;nbsp&amp;nbsp獎號<br/><div class=\"ball_red\">32</div></div><div class=\"contents_mine_tx08\">&amp;nbsp&amp;nbsp&amp;nbsp猜<br/>&amp;nbsp大&amp;nbsp小<br/><div class=\"ball_blue_BB1\">－</div></div><div class=\"contents_mine_tx08\">&amp;nbsp&amp;nbsp&amp;nbsp猜<br/>&amp;nbsp單&amp;nbsp雙<br/><div class=\"ball_blue_BB2\">小單</div></div>\n",
       "</div>\n",
       "<div class=\"dotted01\"></div>\n",
       "<!--***************雙贏彩區塊***************-->\n",
       "<div class=\"contents_box06\">\n",
       "<div id=\"contents_logo_11\"></div><div class=\"contents_mine_tx09\"><span class=\"font_black15\">112/6/30 第112000155期 </span><span class=\"font_red14\"><a href=\"Result_all.aspx#12\">開獎結果</a></span></div><div class=\"contents_mine_tx04\">開出順序<br/>大小順序</div><div class=\"ball_tx ball_blue\">15 </div><div class=\"ball_tx ball_blue\">20 </div><div class=\"ball_tx ball_blue\">16 </div><div class=\"ball_tx ball_blue\">02 </div><div class=\"ball_tx ball_blue\">06 </div><div class=\"ball_tx ball_blue\">24 </div><div class=\"ball_tx ball_blue\">01 </div><div class=\"ball_tx ball_blue\">10 </div><div class=\"ball_tx ball_blue\">07 </div><div class=\"ball_tx ball_blue\">12 </div><div class=\"ball_tx ball_blue\">05 </div><div class=\"ball_tx ball_blue\">14 </div><div class=\"ball_tx ball_blue\">01 </div><div class=\"ball_tx ball_blue\">02 </div><div class=\"ball_tx ball_blue\">05 </div><div class=\"ball_tx ball_blue\">06 </div><div class=\"ball_tx ball_blue\">07 </div><div class=\"ball_tx ball_blue\">10 </div><div class=\"ball_tx ball_blue\">12 </div><div class=\"ball_tx ball_blue\">14 </div><div class=\"ball_tx ball_blue\">15 </div><div class=\"ball_tx ball_blue\">16 </div><div class=\"ball_tx ball_blue\">20 </div><div class=\"ball_tx ball_blue\">24 </div>\n",
       "</div>\n",
       "<div class=\"dotted01\"></div>\n",
       "<!--***************威力彩區塊***************-->\n",
       "<div class=\"contents_box02\">\n",
       "<div id=\"contents_logo_02\"></div><div class=\"contents_mine_tx02\"><span class=\"font_black15\">112/6/29 第112000052期 </span><span class=\"font_red14\"><a href=\"Result_all.aspx#01\">開獎結果</a></span></div><div class=\"contents_mine_tx04\">開出順序<br/>大小順序<br/>第二區</div><div class=\"ball_tx ball_green\">36 </div><div class=\"ball_tx ball_green\">27 </div><div class=\"ball_tx ball_green\">26 </div><div class=\"ball_tx ball_green\">29 </div><div class=\"ball_tx ball_green\">08 </div><div class=\"ball_tx ball_green\">01 </div><div class=\"ball_tx ball_green\">01 </div><div class=\"ball_tx ball_green\">08 </div><div class=\"ball_tx ball_green\">26 </div><div class=\"ball_tx ball_green\">27 </div><div class=\"ball_tx ball_green\">29 </div><div class=\"ball_tx ball_green\">36 </div><div class=\"ball_red\">02 </div>\n",
       "</div>\n",
       "<div class=\"dotted02\"></div>\n",
       "<!--***************38樂合彩區塊***************-->\n",
       "<div class=\"contents_box02\">\n",
       "<div id=\"contents_logo_03\"></div><div class=\"contents_mine_tx02\"><span class=\"font_black15\">112/6/29 第112000052期 </span><span class=\"font_red14\"><a href=\"Result_all.aspx#07\">開獎結果</a></span></div><div class=\"contents_mine_tx04\">開出順序<br/>大小順序</div><div class=\"ball_tx ball_green\">36 </div><div class=\"ball_tx ball_green\">27 </div><div class=\"ball_tx ball_green\">26 </div><div class=\"ball_tx ball_green\">29 </div><div class=\"ball_tx ball_green\">08 </div><div class=\"ball_tx ball_green\">01 </div><div class=\"ball_tx ball_green\">01 </div><div class=\"ball_tx ball_green\">08 </div><div class=\"ball_tx ball_green\">26 </div><div class=\"ball_tx ball_green\">27 </div><div class=\"ball_tx ball_green\">29 </div><div class=\"ball_tx ball_green\">36 </div>\n",
       "</div>\n",
       "<div class=\"dotted01\"></div>\n",
       "<!--***************大樂透區塊***************-->\n",
       "<div class=\"contents_box02\">\n",
       "<div id=\"contents_logo_04\"></div><div class=\"contents_mine_tx02\"><span class=\"font_black15\">112/6/30 第112000064期 </span><span class=\"font_red14\"><a href=\"Result_all.aspx#02\">開獎結果</a></span></div><div class=\"contents_mine_tx04\">開出順序<br/>大小順序<br/>特別號</div><div class=\"ball_tx ball_yellow\">26 </div><div class=\"ball_tx ball_yellow\">06 </div><div class=\"ball_tx ball_yellow\">22 </div><div class=\"ball_tx ball_yellow\">29 </div><div class=\"ball_tx ball_yellow\">32 </div><div class=\"ball_tx ball_yellow\">43 </div><div class=\"ball_tx ball_yellow\">06 </div><div class=\"ball_tx ball_yellow\">22 </div><div class=\"ball_tx ball_yellow\">26 </div><div class=\"ball_tx ball_yellow\">29 </div><div class=\"ball_tx ball_yellow\">32 </div><div class=\"ball_tx ball_yellow\">43 </div><div class=\"ball_red\">38 </div>\n",
       "</div>\n",
       "<div class=\"dotted02\"></div>\n",
       "<!--***************49樂合彩區塊***************-->\n",
       "<div class=\"contents_box02\">\n",
       "<div id=\"contents_logo_05\"></div><div class=\"contents_mine_tx02\"><span class=\"font_black15\">112/6/30 第112000064期 </span><span class=\"font_red14\"><a href=\"Result_all.aspx#08\">開獎結果</a></span></div><div class=\"contents_mine_tx04\">開出順序<br/>大小順序</div><div class=\"ball_tx ball_yellow\">26 </div><div class=\"ball_tx ball_yellow\">06 </div><div class=\"ball_tx ball_yellow\">22 </div><div class=\"ball_tx ball_yellow\">29 </div><div class=\"ball_tx ball_yellow\">32 </div><div class=\"ball_tx ball_yellow\">43 </div><div class=\"ball_tx ball_yellow\">06 </div><div class=\"ball_tx ball_yellow\">22 </div><div class=\"ball_tx ball_yellow\">26 </div><div class=\"ball_tx ball_yellow\">29 </div><div class=\"ball_tx ball_yellow\">32 </div><div class=\"ball_tx ball_yellow\">43 </div>\n",
       "</div>\n",
       "<div class=\"dotted01\"></div>\n",
       "<!--***************大福彩區塊***************-->\n",
       "<!--div class=\"contents_box05\">\n",
       "      \n",
       "    </div-->\n",
       "<!--div class=\"dotted01\"></div-->\n",
       "<!--**************今彩539區塊**************-->\n",
       "<div class=\"contents_box03\">\n",
       "<div id=\"contents_logo_06\"></div><div class=\"contents_mine_tx02\"><span class=\"font_black15\">112/6/30 第112000155期 </span><span class=\"font_red14\"><a href=\"Result_all.aspx#03\">開獎結果</a></span></div><div class=\"contents_mine_tx04\">開出順序<br/>大小順序</div><div class=\"ball_tx ball_lemon\">36 </div><div class=\"ball_tx ball_lemon\">03 </div><div class=\"ball_tx ball_lemon\">20 </div><div class=\"ball_tx ball_lemon\">11 </div><div class=\"ball_tx ball_lemon\">30 </div><div class=\"ball_tx\"></div><div class=\"ball_tx ball_lemon\">03 </div><div class=\"ball_tx ball_lemon\">11 </div><div class=\"ball_tx ball_lemon\">20 </div><div class=\"ball_tx ball_lemon\">30 </div><div class=\"ball_tx ball_lemon\">36 </div>\n",
       "</div>\n",
       "<div class=\"dotted03\"></div>\n",
       "<!--**************39樂合彩區塊**************-->\n",
       "<div class=\"contents_box03\">\n",
       "<div id=\"contents_logo_07\"></div><div class=\"contents_mine_tx02\"><span class=\"font_black15\">112/6/30 第112000155期 </span><span class=\"font_red14\"><a href=\"Result_all.aspx#09\">開獎結果</a></span></div><div class=\"contents_mine_tx04\">開出順序<br/>大小順序</div><div class=\"ball_tx ball_lemon\">36 </div><div class=\"ball_tx ball_lemon\">03 </div><div class=\"ball_tx ball_lemon\">20 </div><div class=\"ball_tx ball_lemon\">11 </div><div class=\"ball_tx ball_lemon\">30 </div><div class=\"ball_tx\"></div><div class=\"ball_tx ball_lemon\">03 </div><div class=\"ball_tx ball_lemon\">11 </div><div class=\"ball_tx ball_lemon\">20 </div><div class=\"ball_tx ball_lemon\">30 </div><div class=\"ball_tx ball_lemon\">36 </div>\n",
       "</div>\n",
       "<div class=\"dotted01\"></div>\n",
       "<!--**************3星彩區塊**************-->\n",
       "<div class=\"contents_box04\">\n",
       "<div id=\"contents_logo_08\"></div><div class=\"contents_mine_tx02\"><span class=\"font_black15\">112/6/30 第112000155期 </span><span class=\"font_red14\"><a href=\"Result_all.aspx#05\">開獎結果</a></span></div><div class=\"contents_mine_tx04\">中獎號碼</div><div class=\"ball_tx ball_purple\">1</div><div class=\"ball_tx ball_purple\">9</div><div class=\"ball_tx ball_purple\">9</div>\n",
       "</div>\n",
       "<div class=\"dotted04\"></div>\n",
       "<!--**************4星彩區塊**************-->\n",
       "<div class=\"contents_box04\">\n",
       "<div id=\"contents_logo_09\"></div><div class=\"contents_mine_tx02\"><span class=\"font_black15\">112/6/30 第112000155期 </span><span class=\"font_red14\"><a href=\"Result_all.aspx#06\">開獎結果</a></span></div><div class=\"contents_mine_tx04\">中獎號碼</div><div class=\"ball_tx ball_purple\">7</div><div class=\"ball_tx ball_purple\">6</div><div class=\"ball_tx ball_purple\">4</div><div class=\"ball_tx ball_purple\">7</div>\n",
       "</div>\n",
       "</div>"
      ]
     },
     "execution_count": 5,
     "metadata": {},
     "output_type": "execute_result"
    }
   ],
   "source": [
    "all = soup.find(\"div\",id=\"rightdown\")\n",
    "all"
   ]
  },
  {
   "cell_type": "code",
   "execution_count": 11,
   "id": "b723fced",
   "metadata": {},
   "outputs": [
    {
     "data": {
      "text/plain": [
       "<div id=\"contents_logo_02\"></div>"
      ]
     },
     "execution_count": 11,
     "metadata": {},
     "output_type": "execute_result"
    }
   ],
   "source": [
    "weliid = all.find(\"div\",id=\"contents_logo_02\")\n",
    "weliid"
   ]
  },
  {
   "cell_type": "code",
   "execution_count": 13,
   "id": "9cb56428",
   "metadata": {},
   "outputs": [
    {
     "data": {
      "text/plain": [
       "<div class=\"contents_box02\">\n",
       "<div id=\"contents_logo_02\"></div><div class=\"contents_mine_tx02\"><span class=\"font_black15\">112/6/29 第112000052期 </span><span class=\"font_red14\"><a href=\"Result_all.aspx#01\">開獎結果</a></span></div><div class=\"contents_mine_tx04\">開出順序<br/>大小順序<br/>第二區</div><div class=\"ball_tx ball_green\">36 </div><div class=\"ball_tx ball_green\">27 </div><div class=\"ball_tx ball_green\">26 </div><div class=\"ball_tx ball_green\">29 </div><div class=\"ball_tx ball_green\">08 </div><div class=\"ball_tx ball_green\">01 </div><div class=\"ball_tx ball_green\">01 </div><div class=\"ball_tx ball_green\">08 </div><div class=\"ball_tx ball_green\">26 </div><div class=\"ball_tx ball_green\">27 </div><div class=\"ball_tx ball_green\">29 </div><div class=\"ball_tx ball_green\">36 </div><div class=\"ball_red\">02 </div>\n",
       "</div>"
      ]
     },
     "execution_count": 13,
     "metadata": {},
     "output_type": "execute_result"
    }
   ],
   "source": [
    "weliDad = weliid.find_parent(\"div\",class_=\"contents_box02\")\n",
    "weliDad"
   ]
  },
  {
   "cell_type": "code",
   "execution_count": 16,
   "id": "4c2b76a2",
   "metadata": {},
   "outputs": [
    {
     "data": {
      "text/plain": [
       "'開出順序大小順序第二區'"
      ]
     },
     "execution_count": 16,
     "metadata": {},
     "output_type": "execute_result"
    }
   ],
   "source": [
    "title = weliDad.find(\"div\",class_=\"contents_mine_tx04\").text\n",
    "title"
   ]
  },
  {
   "cell_type": "code",
   "execution_count": 17,
   "id": "13994ebd",
   "metadata": {},
   "outputs": [
    {
     "data": {
      "text/plain": [
       "'開出順序,大小順序,第二區'"
      ]
     },
     "execution_count": 17,
     "metadata": {},
     "output_type": "execute_result"
    }
   ],
   "source": [
    "title = title.replace(\"序\",\"序,\")\n",
    "title"
   ]
  },
  {
   "cell_type": "code",
   "execution_count": 18,
   "id": "c5e0a292",
   "metadata": {},
   "outputs": [
    {
     "data": {
      "text/plain": [
       "['開出順序', '大小順序', '第二區']"
      ]
     },
     "execution_count": 18,
     "metadata": {},
     "output_type": "execute_result"
    }
   ],
   "source": [
    "titlelist = title.split(\",\")\n",
    "titlelist"
   ]
  },
  {
   "cell_type": "code",
   "execution_count": 29,
   "id": "4613c636",
   "metadata": {},
   "outputs": [
    {
     "data": {
      "text/plain": [
       "[<div class=\"ball_tx ball_green\">36 </div>,\n",
       " <div class=\"ball_tx ball_green\">27 </div>,\n",
       " <div class=\"ball_tx ball_green\">26 </div>,\n",
       " <div class=\"ball_tx ball_green\">29 </div>,\n",
       " <div class=\"ball_tx ball_green\">08 </div>,\n",
       " <div class=\"ball_tx ball_green\">01 </div>,\n",
       " <div class=\"ball_tx ball_green\">01 </div>,\n",
       " <div class=\"ball_tx ball_green\">08 </div>,\n",
       " <div class=\"ball_tx ball_green\">26 </div>,\n",
       " <div class=\"ball_tx ball_green\">27 </div>,\n",
       " <div class=\"ball_tx ball_green\">29 </div>,\n",
       " <div class=\"ball_tx ball_green\">36 </div>]"
      ]
     },
     "execution_count": 29,
     "metadata": {},
     "output_type": "execute_result"
    }
   ],
   "source": [
    "# numList = weliDad.find_all(\"div\",\"ball_tx\")\n",
    "# numList"
   ]
  },
  {
   "cell_type": "code",
   "execution_count": 31,
   "id": "2ec0a8c0",
   "metadata": {},
   "outputs": [
    {
     "name": "stdout",
     "output_type": "stream",
     "text": [
      "36  27  26  29  08  01  \n",
      "01  08  26  27  29  36  \n"
     ]
    }
   ],
   "source": [
    "# for i,num in enumerate(numList):\n",
    "#     print(num.text,end=\" \")\n",
    "#     if (i+1)%6 == 0:\n",
    "#         print()\n",
    "# # specialnum = \n",
    "   "
   ]
  },
  {
   "cell_type": "code",
   "execution_count": null,
   "id": "a00d836c",
   "metadata": {},
   "outputs": [],
   "source": [
    "balls = weliDad.find_all(\"div\",\"ball_tx\")"
   ]
  }
 ],
 "metadata": {
  "kernelspec": {
   "display_name": "Python 3 (ipykernel)",
   "language": "python",
   "name": "python3"
  },
  "language_info": {
   "codemirror_mode": {
    "name": "ipython",
    "version": 3
   },
   "file_extension": ".py",
   "mimetype": "text/x-python",
   "name": "python",
   "nbconvert_exporter": "python",
   "pygments_lexer": "ipython3",
   "version": "3.10.9"
  }
 },
 "nbformat": 4,
 "nbformat_minor": 5
}
